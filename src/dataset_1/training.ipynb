{
 "cells": [
  {
   "cell_type": "code",
   "execution_count": 1,
   "metadata": {},
   "outputs": [
    {
     "name": "stderr",
     "output_type": "stream",
     "text": [
      "Using TensorFlow backend.\n"
     ]
    }
   ],
   "source": [
    "import pandas as pd\n",
    "import matplotlib.pyplot as plt\n",
    "\n",
    "from sklearn.model_selection import train_test_split\n",
    "from sklearn.feature_extraction.text import TfidfVectorizer\n",
    "\n",
    "from sklearn.linear_model import LogisticRegression\n",
    "from sklearn.svm import SVC, LinearSVC\n",
    "from sklearn.naive_bayes import MultinomialNB\n",
    "from sklearn.ensemble import RandomForestClassifier\n",
    "from sklearn.metrics import classification_report, confusion_matrix, plot_confusion_matrix, ConfusionMatrixDisplay\n",
    "\n",
    "from keras import Sequential\n",
    "from keras.layers import Dense, Dropout\n",
    "from keras.wrappers.scikit_learn import KerasClassifier"
   ]
  },
  {
   "cell_type": "markdown",
   "metadata": {},
   "source": [
    "The data is cleaned and ready for the training phase. There are many methods used in classification tasks. I'll test some of the most common algorithms and compare the results.  \n",
    "For performance evaluation I'll use the confusion matrix and the well-known Precision, Recall and F1-score."
   ]
  },
  {
   "cell_type": "code",
   "execution_count": 2,
   "metadata": {},
   "outputs": [],
   "source": [
    "data = pd.read_csv('./../data/processed/data.csv')"
   ]
  },
  {
   "cell_type": "code",
   "execution_count": 3,
   "metadata": {},
   "outputs": [
    {
     "data": {
      "text/plain": [
       "0    21191\n",
       "1    17453\n",
       "Name: fake, dtype: int64"
      ]
     },
     "execution_count": 3,
     "metadata": {},
     "output_type": "execute_result"
    }
   ],
   "source": [
    "data['fake'].value_counts()"
   ]
  },
  {
   "cell_type": "markdown",
   "metadata": {},
   "source": [
    "Because the dataset is not perfectly balanced, I'll used a stratified train_test_split. This will result in having the same proportion of fake articles in the training and test set.  \n",
    "Since the dataset is relatively small, I'll set the training set size to be of 30% of the whole dataset."
   ]
  },
  {
   "cell_type": "code",
   "execution_count": 4,
   "metadata": {},
   "outputs": [],
   "source": [
    "X_train, X_test, y_train, y_test = train_test_split(data['text'], data['fake'], test_size = 0.3, stratify = data['fake'])"
   ]
  },
  {
   "cell_type": "markdown",
   "metadata": {},
   "source": [
    "Now I have to extract numerical features from the dataset of string tokens. One way to do this is using **TF-IDF** term weighting scheme which is a technique of calculating the importance of a word in a given corpus.\n",
    "<br/><br/>\n",
    "\n",
    "<center>tf-idf(w,d,D) = tf(w,d) * idf(w,D)</center>\n",
    "<br/>\n",
    "<center>tf(w,d) = log(1 + f(w,d))</center>\n",
    "<br/>\n",
    "<center>idf(w,D) = log($\\frac{N}{f(w,D)}$)</center>\n",
    "<br/>\n",
    "where:\n",
    "\n",
    "- w - a given word from an article  \n",
    "- d - a given article from the dataset\n",
    "- D - the whole collection of articles\n",
    "- N - the total number of articles in the dataset  \n",
    "- f(w,d) - the frequency of word w in article d\n",
    "- f(w,D) - the frequency of word w in all articles\n",
    "\n",
    "**TF** (term frequency) increases the weight of the terms (words) that occur more frequently in the document.  \n",
    "<br/>\n",
    "**IDF** (inverse document frequency) diminishes the weight of the terms that occur in all the documents of corpus and, at the same time, increases the weight of the terms that occur in rare documents across the corpus.  \n",
    "<br/>\n",
    "What **TF-IDF** does is that it tries to offer more weight to words that have a high number of occurences in some documents, but penalizes the words that appear frequently in very many documents. Words can be relevant if they appear frequently in rare situations. If a word is very common accross too many documents, their importance decreases, because they do not bring much information (similar to what stop words offer)"
   ]
  },
  {
   "cell_type": "code",
   "execution_count": 5,
   "metadata": {},
   "outputs": [],
   "source": [
    "vectorizer = TfidfVectorizer()\n",
    "X_train_vect = vectorizer.fit_transform(X_train)\n",
    "X_test_vect = vectorizer.transform(X_test)"
   ]
  },
  {
   "cell_type": "code",
   "execution_count": 6,
   "metadata": {},
   "outputs": [
    {
     "name": "stdout",
     "output_type": "stream",
     "text": [
      "Multinomial Naive Bayes classifier evaluation report (Precision, Recall, F1)\n",
      "\n",
      "              precision    recall  f1-score   support\n",
      "\n",
      "           0     0.9330    0.9681    0.9502      6358\n",
      "           1     0.9594    0.9156    0.9370      5236\n",
      "\n",
      "    accuracy                         0.9444     11594\n",
      "   macro avg     0.9462    0.9418    0.9436     11594\n",
      "weighted avg     0.9449    0.9444    0.9442     11594\n",
      "\n",
      "Confusion matrix\n"
     ]
    },
    {
     "data": {
      "image/png": "[encoded data removed]",
      "text/plain": [
       "<Figure size 432x288 with 2 Axes>"
      ]
     },
     "metadata": {
      "needs_background": "light"
     },
     "output_type": "display_data"
    }
   ],
   "source": [
    "mnb_clf = MultinomialNB()\n",
    "mnb_clf.fit(X_train_vect, y_train)\n",
    "mnb_pred = mnb_clf.predict(X_test_vect)\n",
    "mnb_cr = classification_report(y_test, mnb_pred, digits = 4)\n",
    "\n",
    "print(\"Multinomial Naive Bayes classifier evaluation report (Precision, Recall, F1)\\n\")\n",
    "print(mnb_cr)\n",
    "\n",
    "mnb_cm = confusion_matrix(y_test, mnb_pred)\n",
    "print(\"Confusion matrix\")\n",
    "plot_confusion_matrix(mnb_clf, X_test_vect, y_test, cmap = 'Blues', values_format='d')\n",
    "plt.show()"
   ]
  },
  {
   "cell_type": "markdown",
   "metadata": {},
   "source": [
    "The **Multinomial Naive Bayes** classifer has a pretty good F1-score. The confusion matrix tells us the model has some difficulties with false negatives (fake news labeled as true news). Naive Bayes is known to perform better on snipets of text. This is why for full-length texts it's better to use other algorithms (for example SVMs)."
   ]
  },
  {
   "cell_type": "code",
   "execution_count": 9,
   "metadata": {},
   "outputs": [
    {
     "name": "stdout",
     "output_type": "stream",
     "text": [
      "Random forest classifier evaluation report (Precision, Recall, F1)\n",
      "\n",
      "              precision    recall  f1-score   support\n",
      "\n",
      "           0     0.9766    0.9863    0.9815      6358\n",
      "           1     0.9832    0.9714    0.9772      5236\n",
      "\n",
      "    accuracy                         0.9796     11594\n",
      "   macro avg     0.9799    0.9788    0.9793     11594\n",
      "weighted avg     0.9796    0.9796    0.9795     11594\n",
      "\n",
      "Confusion matrix\n"
     ]
    },
    {
     "data": {
      "image/png": "[encoded data removed]",
      "text/plain": [
       "<Figure size 432x288 with 2 Axes>"
      ]
     },
     "metadata": {
      "needs_background": "light"
     },
     "output_type": "display_data"
    }
   ],
   "source": [
    "rf_clf = RandomForestClassifier()\n",
    "rf_clf.fit(X_train_vect, y_train)\n",
    "rf_pred = rf_clf.predict(X_test_vect)\n",
    "rf_cr = classification_report(y_test, rf_pred, digits = 4)\n",
    "\n",
    "print(\"Random forest classifier evaluation report (Precision, Recall, F1)\\n\")\n",
    "print(rf_cr)\n",
    "\n",
    "rf_cm = confusion_matrix(y_test, rf_pred)\n",
    "print(\"Confusion matrix\")\n",
    "plot_confusion_matrix(rf_clf, X_test_vect, y_test, cmap='Blues', values_format='d')\n",
    "plt.show()"
   ]
  },
  {
   "cell_type": "markdown",
   "metadata": {},
   "source": [
    "Results show us that **Random Forest** classifier achieves a better f1-score than MNB. We can notice that this model also has a greater number of false negatives than false positives. Random Forest is usually suitable for high dimensional data which makes it a good candidate for fake news detection."
   ]
  },
  {
   "cell_type": "code",
   "execution_count": 10,
   "metadata": {},
   "outputs": [
    {
     "name": "stdout",
     "output_type": "stream",
     "text": [
      "Logistic regression evaluation report (Precision, Recall, F1)\n",
      "\n",
      "              precision    recall  f1-score   support\n",
      "\n",
      "           0     0.9821    0.9896    0.9858      6358\n",
      "           1     0.9873    0.9780    0.9826      5236\n",
      "\n",
      "    accuracy                         0.9844     11594\n",
      "   macro avg     0.9847    0.9838    0.9842     11594\n",
      "weighted avg     0.9844    0.9844    0.9844     11594\n",
      "\n",
      "Confusion matrix\n"
     ]
    },
    {
     "data": {
      "image/png": "[encoded data removed]",
      "text/plain": [
       "<Figure size 432x288 with 2 Axes>"
      ]
     },
     "metadata": {
      "needs_background": "light"
     },
     "output_type": "display_data"
    }
   ],
   "source": [
    "lr_clf = LogisticRegression()\n",
    "lr_clf.fit(X_train_vect,y_train)\n",
    "lr_pred = lr_clf.predict(X_test_vect)\n",
    "lr_cr = classification_report(y_test, lr_pred, digits = 4)\n",
    "\n",
    "print(\"Logistic regression evaluation report (Precision, Recall, F1)\\n\")\n",
    "print(lr_cr)\n",
    "\n",
    "lr_cm = confusion_matrix(y_test, lr_pred)\n",
    "print(\"Confusion matrix\")\n",
    "plot_confusion_matrix(lr_clf, X_test_vect, y_test, cmap = 'Blues', values_format='d')\n",
    "plt.show()"
   ]
  },
  {
   "cell_type": "markdown",
   "metadata": {},
   "source": [
    "**Logistic regression** achieves slightly better results than Random Forest. The same observation regarding the proportion of false negatives applies in this case, too. Because it's fast to train and can offer good results in text classification, Logistic regression proves to be a good solution."
   ]
  },
  {
   "cell_type": "code",
   "execution_count": 14,
   "metadata": {},
   "outputs": [
    {
     "name": "stdout",
     "output_type": "stream",
     "text": [
      "Support vector classifier evaluation report (Precision, Recall, F1)\n",
      "\n",
      "              precision    recall  f1-score   support\n",
      "\n",
      "           0     0.9904    0.9931    0.9918      6358\n",
      "           1     0.9916    0.9883    0.9900      5236\n",
      "\n",
      "    accuracy                         0.9909     11594\n",
      "   macro avg     0.9910    0.9907    0.9909     11594\n",
      "weighted avg     0.9909    0.9909    0.9909     11594\n",
      "\n",
      "Confusion matrix\n"
     ]
    },
    {
     "data": {
      "image/png": "[encoded data removed]",
      "text/plain": [
       "<Figure size 432x288 with 2 Axes>"
      ]
     },
     "metadata": {
      "needs_background": "light"
     },
     "output_type": "display_data"
    }
   ],
   "source": [
    "svm_clf = LinearSVC(C=1)\n",
    "svm_clf.fit(X_train_vect, y_train)\n",
    "svm_pred = svm_clf.predict(X_test_vect)\n",
    "svm_cr = classification_report(y_test, svm_pred, digits = 4)\n",
    "\n",
    "print(\"Support vector classifier evaluation report (Precision, Recall, F1)\\n\")\n",
    "print(svm_cr)\n",
    "\n",
    "svm_cm = confusion_matrix(y_test, svm_pred)\n",
    "print(\"Confusion matrix\")\n",
    "plot_confusion_matrix(svm_clf, X_test_vect, y_test, cmap = 'Blues', values_format='d')\n",
    "plt.show()"
   ]
  },
  {
   "cell_type": "markdown",
   "metadata": {},
   "source": [
    "**Linear support vector classifier** achieves great results and confirms that is one of the best algorithms used for (lengthy) text classification. "
   ]
  },
  {
   "cell_type": "code",
   "execution_count": 44,
   "metadata": {},
   "outputs": [
    {
     "name": "stdout",
     "output_type": "stream",
     "text": [
      "Epoch 1/5\n",
      "27050/27050 [==============================] - 133s 5ms/step - loss: 0.1091 - accuracy: 0.9698\n",
      "Epoch 2/5\n",
      "27050/27050 [==============================] - 143s 5ms/step - loss: 0.0066 - accuracy: 0.9985\n",
      "Epoch 3/5\n",
      "27050/27050 [==============================] - 131s 5ms/step - loss: 8.1898e-04 - accuracy: 0.9999\n",
      "Epoch 4/5\n",
      "27050/27050 [==============================] - 130s 5ms/step - loss: 0.0020 - accuracy: 0.9997\n",
      "Epoch 5/5\n",
      "27050/27050 [==============================] - 132s 5ms/step - loss: 8.5486e-04 - accuracy: 0.9999\n"
     ]
    },
    {
     "data": {
      "text/plain": [
       "<keras.callbacks.callbacks.History at 0x7fe95925fba8>"
      ]
     },
     "execution_count": 44,
     "metadata": {},
     "output_type": "execute_result"
    }
   ],
   "source": [
    "def build_model():\n",
    "    model = Sequential()\n",
    "    model.add(Dense(256, input_dim=X_train_vect.shape[1], activation='relu'))\n",
    "    model.add(Dropout(0.3))\n",
    "    model.add(Dense(128, activation='relu'))\n",
    "    model.add(Dropout(0.3))\n",
    "    model.add(Dense(64, activation='relu'))\n",
    "    model.add(Dropout(0.3))\n",
    "    model.add(Dense(1, activation='sigmoid'))\n",
    "    model.compile(loss='binary_crossentropy', optimizer='adam', metrics=['accuracy'])\n",
    "    \n",
    "    return model\n",
    "\n",
    "estimator = KerasClassifier(build_fn=build_model, epochs=5, batch_size=128)\n",
    "estimator.fit(X_train_vect, y_train)"
   ]
  },
  {
   "cell_type": "code",
   "execution_count": 45,
   "metadata": {},
   "outputs": [
    {
     "name": "stdout",
     "output_type": "stream",
     "text": [
      "Neural network evaluation report (Precision, Recall, F1)\n",
      "\n",
      "              precision    recall  f1-score   support\n",
      "\n",
      "           0     0.9935    0.9891    0.9913      6358\n",
      "           1     0.9869    0.9922    0.9895      5236\n",
      "\n",
      "    accuracy                         0.9905     11594\n",
      "   macro avg     0.9902    0.9907    0.9904     11594\n",
      "weighted avg     0.9905    0.9905    0.9905     11594\n",
      "\n"
     ]
    },
    {
     "data": {
      "image/png": "[encoded data removed]",
      "text/plain": [
       "<Figure size 432x288 with 2 Axes>"
      ]
     },
     "metadata": {
      "needs_background": "light"
     },
     "output_type": "display_data"
    }
   ],
   "source": [
    "nn_pred = estimator.predict(X_test_vect)\n",
    "nn_cr = classification_report(y_test, nn_pred, digits = 4)\n",
    "print(\"Neural network evaluation report (Precision, Recall, F1)\\n\")\n",
    "print(nn_cr)\n",
    "\n",
    "nn_cm = confusion_matrix(y_test, nn_pred)\n",
    "disp = ConfusionMatrixDisplay(confusion_matrix = nn_cm, display_labels = [0,1])\n",
    "disp = disp.plot(cmap = \"Blues\")\n",
    "plt.show()"
   ]
  },
  {
   "cell_type": "markdown",
   "metadata": {},
   "source": [
    "We've seen how algorithms like Multinomial Naive Bayes, Random Forest, Logistic Regression or Linear Suport Vector classifier perform in a fake news detection task. They have all achieved very good results, SVC being the most performant. At the same time we've seen that a pretty small artificial neural network can achieve a similar performance to what SVC has obtained.  \n",
    "This makes me think that the dataset has to be a very easy one. It probably contains more subtle biases (not as explicit as the occurence of \"Reuters\" in almost all true articles).  \n",
    "I would have wanted to try more complicated algorithms, hyperparameter tuning, but it make much more sense to do it on a more difficult dataset. Therefore, a second part of this project will focus on another dataset that will hopefully offer more challenges."
   ]
  }
 ],
 "metadata": {
  "kernelspec": {
   "display_name": "Python 3",
   "language": "python",
   "name": "python3"
  },
  "language_info": {
   "codemirror_mode": {
    "name": "ipython",
    "version": 3
   },
   "file_extension": ".py",
   "mimetype": "text/x-python",
   "name": "python",
   "nbconvert_exporter": "python",
   "pygments_lexer": "ipython3",
   "version": "3.7.3"
  }
 },
 "nbformat": 4,
 "nbformat_minor": 1
}
